{
 "cells": [
  {
   "cell_type": "markdown",
   "metadata": {},
   "source": [
    "# Flume\n",
    "![Flume](https://flume.apache.org/_static/flume-logo.png)\n",
    "\n",
    "- https://flume.apache.org"
   ]
  },
  {
   "cell_type": "markdown",
   "metadata": {},
   "source": [
    "## Setup\n",
    "\n",
    "- download from https://flume.apache.org/download.html\n",
    "- version 1.9.0"
   ]
  },
  {
   "cell_type": "code",
   "execution_count": 1,
   "metadata": {},
   "outputs": [
    {
     "name": "stdout",
     "output_type": "stream",
     "text": [
      "export JAVA_HOME=/usr/lib/jvm/java-1.8.0-openjdk-amd64\n",
      "export PDSH_RCMD_TYPE=ssh\n",
      "\n",
      "export HADOOP_HOME=/opt/hadoop\n",
      "export HADOOP_COMMON_HOME=${HADOOP_HOME}\n",
      "export HADOOP_CONF_DIR=${HADOOP_HOME}/etc/hadoop\n",
      "export HADOOP_HDFS_HOME=${HADOOP_HOME}\n",
      "export HADOOP_MAPRED_HOME=${HADOOP_HOME}\n",
      "export HADOOP_YARN_HOME=${HADOOP_HOME}\n",
      "\n",
      "export PATH=${PATH}:${HADOOP_HOME}/bin:${HADOOP_HOME}/sbin     \n",
      "\n",
      "# Flume\n",
      "export FLUME_HOME=/opt/flume\n",
      "export PATH=${PATH}:${FLUME_HOME}/bin\n",
      "\n"
     ]
    }
   ],
   "source": [
    "%%bash\n",
    "\n",
    "# Download package\n",
    "cd /opt/pkgs\n",
    "wget -q -c https://downloads.apache.org/flume/1.9.0/apache-flume-1.9.0-bin.tar.gz\n",
    "\n",
    "# unpack file and create link\n",
    "tar -zxf /opt/pkgs/apache-flume-1.9.0-bin.tar.gz -C /opt\n",
    "ln -s /opt/apache-flume-1.9.0-bin /opt/flume\n",
    "\n",
    "# update guava library on Flume\n",
    "rm -f /opt/flume/lib/guava-11.0.2.jar \n",
    "cp -f /opt/hadoop/share/hadoop/common/lib/guava-27.0-jre.jar /opt/flume/lib\n",
    "\n",
    "# update envvars.sh\n",
    "cat >> /opt/envvars.sh << EOF\n",
    "# Flume\n",
    "export FLUME_HOME=/opt/flume\n",
    "export PATH=\\${PATH}:\\${FLUME_HOME}/bin\n",
    "\n",
    "EOF\n",
    "\n",
    "cat /opt/envvars.sh"
   ]
  },
  {
   "cell_type": "code",
   "execution_count": 2,
   "metadata": {},
   "outputs": [
    {
     "data": {
      "text/plain": [
       "{'HOSTNAME': 'hadoop',\n",
       " 'OLDPWD': '/',\n",
       " 'PWD': '/opt',\n",
       " 'HOME': '/home/hadoop',\n",
       " 'SHELL': '/bin/bash',\n",
       " 'SHLVL': '1',\n",
       " 'PATH': '/usr/local/sbin:/usr/local/bin:/usr/sbin:/usr/bin:/sbin:/bin:/opt/hadoop/bin:/opt/hadoop/sbin:/opt/flume/bin',\n",
       " '_': '/usr/bin/nohup',\n",
       " 'LANGUAGE': 'en.UTF-8',\n",
       " 'LANG': 'en.UTF-8',\n",
       " 'JPY_PARENT_PID': '1566',\n",
       " 'TERM': 'xterm-color',\n",
       " 'CLICOLOR': '1',\n",
       " 'PAGER': 'cat',\n",
       " 'GIT_PAGER': 'cat',\n",
       " 'MPLBACKEND': 'module://ipykernel.pylab.backend_inline',\n",
       " 'JAVA_HOME': '/usr/lib/jvm/java-1.8.0-openjdk-amd64',\n",
       " 'PDSH_RCMD_TYPE': 'ssh',\n",
       " 'HADOOP_HOME': '/opt/hadoop',\n",
       " 'HADOOP_COMMON_HOME': '/opt/hadoop',\n",
       " 'HADOOP_CONF_DIR': '/opt/hadoop/etc/hadoop',\n",
       " 'HADOOP_HDFS_HOME': '/opt/hadoop',\n",
       " 'HADOOP_MAPRED_HOME': '/opt/hadoop',\n",
       " 'HADOOP_YARN_HOME': '/opt/hadoop',\n",
       " 'FLUME_HOME': '/opt/flume'}"
      ]
     },
     "execution_count": 2,
     "metadata": {},
     "output_type": "execute_result"
    }
   ],
   "source": [
    "# Load environment variables\n",
    "%load_ext dotenv\n",
    "%dotenv -o /opt/envvars.sh\n",
    "%env"
   ]
  },
  {
   "cell_type": "markdown",
   "metadata": {},
   "source": [
    "## Tailagent example\n",
    "\n",
    "- https://flume.apache.org/releases/content/1.9.0/FlumeUserGuide.html"
   ]
  },
  {
   "cell_type": "code",
   "execution_count": 3,
   "metadata": {},
   "outputs": [
    {
     "name": "stdout",
     "output_type": "stream",
     "text": [
      "Writing /opt/flume/conf/tailagent.conf\n"
     ]
    }
   ],
   "source": [
    "%%writefile /opt/flume/conf/tailagent.conf\n",
    "# Agent components\n",
    "tailagent.sources = execsource\n",
    "tailagent.channels = memchannel\n",
    "tailagent.sinks = hdfssink\n",
    "\n",
    "# Configuring source\n",
    "tailagent.sources.execsource.type = exec\n",
    "tailagent.sources.execsource.command = tail -F /tmp/events\n",
    "\n",
    "# Configuring sink\n",
    "tailagent.sinks.hdfssink.type = hdfs\n",
    "tailagent.sinks.hdfssink.hdfs.path = /tmp\n",
    "tailagent.sinks.hdfssink.hdfs.filePrefix = tailevents-\n",
    "tailagent.sinks.hdfssink.hdfs.fileType = DataStream\n",
    "\n",
    "# Configuring channel\n",
    "tailagent.channels.memchannel.type = memory\n",
    "\n",
    "# Bind the source and sink to the channel \n",
    "tailagent.sources.execsource.channels = memchannel\n",
    "tailagent.sinks.hdfssink.channel = memchannel"
   ]
  },
  {
   "cell_type": "code",
   "execution_count": 4,
   "metadata": {},
   "outputs": [
    {
     "name": "stdout",
     "output_type": "stream",
     "text": [
      "UID        PID  PPID  C STIME TTY          TIME CMD\n",
      "hadoop    6284  6283  0 18:42 ?        00:00:00 /bin/bash /opt/flume/bin/flume-ng agent -n tailagent -c ./conf -f ./conf/tailagent.conf\n"
     ]
    }
   ],
   "source": [
    "%%bash\n",
    "\n",
    "# run agent in background\n",
    "cd /opt/flume\n",
    "\n",
    "flume-ng agent -n tailagent -c ./conf \\\n",
    "-f ./conf/tailagent.conf > ./tailagent.output 2>&1 &\n",
    "echo $! > ./tailagent.pid\n",
    "\n",
    "ps -fp $(cat ./tailagent.pid)"
   ]
  },
  {
   "cell_type": "code",
   "execution_count": 5,
   "metadata": {},
   "outputs": [
    {
     "name": "stdout",
     "output_type": "stream",
     "text": [
      "UID        PID  PPID  C STIME TTY          TIME CMD\n",
      "hadoop    6402  6399  0 18:43 ?        00:00:00 bash\n"
     ]
    }
   ],
   "source": [
    "%%bash\n",
    "\n",
    "# run random generator in background\n",
    "cd /opt/flume\n",
    "\n",
    "cat > randomgen.sh << EOF\n",
    "while true\n",
    "do\n",
    "    echo \\${RANDOM} >> /tmp/events\n",
    "    sleep 1\n",
    "done\n",
    "EOF\n",
    "\n",
    "chmod +x randomgen.sh\n",
    "./randomgen.sh > /dev/null 2>&1 &\n",
    "echo $! > ./randomgen.pid\n",
    "\n",
    "ps -fp $(cat ./randomgen.pid)"
   ]
  },
  {
   "cell_type": "code",
   "execution_count": 6,
   "metadata": {},
   "outputs": [
    {
     "name": "stdout",
     "output_type": "stream",
     "text": [
      "-rw-r--r--   2 hadoop supergroup         58 2021-01-28 18:43 /tmp/tailevents-.1611859419661\n",
      "-rw-r--r--   2 hadoop supergroup         58 2021-01-28 18:43 /tmp/tailevents-.1611859419662\n",
      "-rw-r--r--   2 hadoop supergroup         60 2021-01-28 18:44 /tmp/tailevents-.1611859419663\n",
      "-rw-r--r--   2 hadoop supergroup          0 2021-01-28 18:44 /tmp/tailevents-.1611859419664.tmp\n"
     ]
    }
   ],
   "source": [
    "%%bash\n",
    "\n",
    "# check files generated in HDFS\n",
    "hdfs dfs -ls /tmp/tailevents*"
   ]
  },
  {
   "cell_type": "code",
   "execution_count": 7,
   "metadata": {},
   "outputs": [
    {
     "name": "stdout",
     "output_type": "stream",
     "text": [
      "23394\n",
      "5142\n",
      "16495\n",
      "25499\n",
      "23988\n",
      "26597\n",
      "1549\n",
      "16255\n",
      "21528\n",
      "11905\n",
      "15779\n",
      "11346\n",
      "17910\n",
      "15780\n",
      "5660\n",
      "6556\n",
      "29977\n",
      "17824\n",
      "15921\n",
      "14510\n",
      "18007\n",
      "31382\n",
      "16445\n",
      "32398\n",
      "17829\n",
      "29805\n",
      "19372\n",
      "14028\n",
      "18519\n",
      "32473\n",
      "4764\n",
      "16680\n",
      "14764\n",
      "26848\n",
      "28276\n",
      "738\n",
      "30500\n",
      "26792\n",
      "30753\n",
      "21743\n",
      "16188\n",
      "2908\n",
      "905\n",
      "20420\n",
      "25857\n",
      "21791\n",
      "6036\n",
      "4479\n",
      "12589\n",
      "12286\n",
      "1138\n",
      "27667\n",
      "29653\n",
      "17335\n",
      "21126\n",
      "5907\n",
      "29906\n",
      "17289\n",
      "27682\n",
      "22521\n",
      "13668\n",
      "22511\n",
      "13277\n",
      "10957\n",
      "2245\n",
      "27363\n",
      "25891\n",
      "25581\n",
      "30651\n",
      "9290\n"
     ]
    },
    {
     "name": "stderr",
     "output_type": "stream",
     "text": [
      "2021-01-28 18:44:46,857 INFO sasl.SaslDataTransferClient: SASL encryption trust check: localHostTrusted = false, remoteHostTrusted = false\n",
      "2021-01-28 18:44:47,378 INFO sasl.SaslDataTransferClient: SASL encryption trust check: localHostTrusted = false, remoteHostTrusted = false\n",
      "2021-01-28 18:44:47,583 INFO sasl.SaslDataTransferClient: SASL encryption trust check: localHostTrusted = false, remoteHostTrusted = false\n"
     ]
    }
   ],
   "source": [
    "%%bash\n",
    "\n",
    "# cat files\n",
    "hdfs dfs -cat /tmp/tailevents*"
   ]
  },
  {
   "cell_type": "code",
   "execution_count": 8,
   "metadata": {},
   "outputs": [
    {
     "name": "stdout",
     "output_type": "stream",
     "text": [
      "Deleted /tmp/tailevents-.1611859419661\n",
      "Deleted /tmp/tailevents-.1611859419662\n",
      "Deleted /tmp/tailevents-.1611859419663\n",
      "Deleted /tmp/tailevents-.1611859419664\n",
      "Deleted /tmp/tailevents-.1611859419665\n",
      "Deleted /tmp/tailevents-.1611859419666\n",
      "Deleted /tmp/tailevents-.1611859419667\n",
      "Deleted /tmp/tailevents-.1611859419668\n",
      "Deleted /tmp/tailevents-.1611859419669\n",
      "Deleted /tmp/tailevents-.1611859419670\n",
      "Deleted /tmp/tailevents-.1611859419671\n",
      "Deleted /tmp/tailevents-.1611859419672\n"
     ]
    }
   ],
   "source": [
    "%%bash\n",
    "\n",
    "cd /opt/flume\n",
    "\n",
    "# kill random generator\n",
    "kill $(cat randomgen.pid)\n",
    "rm randomgen.pid\n",
    "\n",
    "# kill tailagent\n",
    "kill $(cat tailagent.pid)\n",
    "rm tailagent.pid\n",
    "rm tailagent.output\n",
    "\n",
    "# remove files\n",
    "hdfs dfs -rm /tmp/tailevents*"
   ]
  },
  {
   "cell_type": "code",
   "execution_count": null,
   "metadata": {},
   "outputs": [],
   "source": []
  }
 ],
 "metadata": {
  "kernelspec": {
   "display_name": "Python 3",
   "language": "python",
   "name": "python3"
  },
  "language_info": {
   "codemirror_mode": {
    "name": "ipython",
    "version": 3
   },
   "file_extension": ".py",
   "mimetype": "text/x-python",
   "name": "python",
   "nbconvert_exporter": "python",
   "pygments_lexer": "ipython3",
   "version": "3.6.9"
  }
 },
 "nbformat": 4,
 "nbformat_minor": 4
}
