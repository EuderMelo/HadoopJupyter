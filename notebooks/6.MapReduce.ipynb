{
 "cells": [
  {
   "cell_type": "code",
   "execution_count": 1,
   "metadata": {},
   "outputs": [
    {
     "data": {
      "text/plain": [
       "{'HOSTNAME': 'hadoop',\n",
       " 'OLDPWD': '/',\n",
       " 'PWD': '/opt',\n",
       " 'HOME': '/home/hadoop',\n",
       " 'SHELL': '/bin/bash',\n",
       " 'SHLVL': '1',\n",
       " 'PATH': '/usr/local/sbin:/usr/local/bin:/usr/sbin:/usr/bin:/sbin:/bin:/opt/hadoop/bin:/opt/hadoop/sbin:/opt/flume/bin:/opt/sqoop/bin',\n",
       " '_': '/usr/bin/nohup',\n",
       " 'LANGUAGE': 'en.UTF-8',\n",
       " 'LANG': 'en.UTF-8',\n",
       " 'JPY_PARENT_PID': '1566',\n",
       " 'TERM': 'xterm-color',\n",
       " 'CLICOLOR': '1',\n",
       " 'PAGER': 'cat',\n",
       " 'GIT_PAGER': 'cat',\n",
       " 'MPLBACKEND': 'module://ipykernel.pylab.backend_inline',\n",
       " 'JAVA_HOME': '/usr/lib/jvm/java-1.8.0-openjdk-amd64',\n",
       " 'PDSH_RCMD_TYPE': 'ssh',\n",
       " 'HADOOP_HOME': '/opt/hadoop',\n",
       " 'HADOOP_COMMON_HOME': '/opt/hadoop',\n",
       " 'HADOOP_CONF_DIR': '/opt/hadoop/etc/hadoop',\n",
       " 'HADOOP_HDFS_HOME': '/opt/hadoop',\n",
       " 'HADOOP_MAPRED_HOME': '/opt/hadoop',\n",
       " 'HADOOP_YARN_HOME': '/opt/hadoop',\n",
       " 'FLUME_HOME': '/opt/flume',\n",
       " 'SQOOP_HOME': '/opt/sqoop'}"
      ]
     },
     "execution_count": 1,
     "metadata": {},
     "output_type": "execute_result"
    }
   ],
   "source": [
    "# Load environment variables\n",
    "%load_ext dotenv\n",
    "%dotenv -o /opt/envvars.sh\n",
    "%env"
   ]
  },
  {
   "cell_type": "markdown",
   "metadata": {},
   "source": [
    "# MapReduce"
   ]
  },
  {
   "cell_type": "markdown",
   "metadata": {},
   "source": [
    "## Java Map Reduce API - WordCount"
   ]
  },
  {
   "cell_type": "code",
   "execution_count": 2,
   "metadata": {},
   "outputs": [
    {
     "name": "stdout",
     "output_type": "stream",
     "text": [
      "/opt/src/wc_java\n"
     ]
    }
   ],
   "source": [
    "%mkdir -p /opt/src/wc_java\n",
    "%cd /opt/src/wc_java"
   ]
  },
  {
   "cell_type": "code",
   "execution_count": 3,
   "metadata": {},
   "outputs": [
    {
     "name": "stdout",
     "output_type": "stream",
     "text": [
      "Writing WordCountDriver.java\n"
     ]
    }
   ],
   "source": [
    "%%writefile WordCountDriver.java\n",
    "// WordCountDriver.java\n",
    "import org.apache.hadoop.fs.Path;\n",
    "import org.apache.hadoop.io.IntWritable;\n",
    "import org.apache.hadoop.io.Text;\n",
    "import org.apache.hadoop.mapreduce.lib.input.FileInputFormat;\n",
    "import org.apache.hadoop.mapreduce.lib.output.FileOutputFormat;\n",
    "import org.apache.hadoop.mapreduce.Job;\n",
    "import org.apache.hadoop.conf.Configured;\n",
    "import org.apache.hadoop.conf.Configuration;\n",
    "import org.apache.hadoop.util.Tool;\n",
    "import org.apache.hadoop.util.ToolRunner;\n",
    "\n",
    "public class WordCountDriver extends Configured implements Tool {\n",
    "  public int run(String[] args) throws Exception {\n",
    "   if (args.length != 2) {\n",
    "    System.out.printf(\"Usage: %s [generic options] <inputdir> <outputdir>\\n\", getClass().getSimpleName());\n",
    "    return -1;\n",
    "   }\n",
    "\n",
    "   Job job = Job.getInstance(getConf(), \"Word Count\");\n",
    "   job.setJarByClass(WordCountDriver.class);\n",
    "   FileInputFormat.setInputPaths(job, new Path(args[0]));\n",
    "   FileOutputFormat.setOutputPath(job, new Path(args[1]));\n",
    "   job.setMapperClass(WordCountMapper.class);\n",
    "   job.setReducerClass(WordCountReducer.class);\n",
    "   job.setMapOutputKeyClass(Text.class);\n",
    "   job.setMapOutputValueClass(IntWritable.class);\n",
    "   job.setOutputKeyClass(Text.class);\n",
    "   job.setOutputValueClass(IntWritable.class);\n",
    "   boolean success = job.waitForCompletion(true);\n",
    "   return success ? 0 : 1;\n",
    " }\n",
    "\n",
    " public static void main(String[] args) throws Exception {\n",
    "   int exitCode = ToolRunner.run(new Configuration(), new WordCountDriver(), args);\n",
    "   System.exit(exitCode);\n",
    " }\n",
    "}"
   ]
  },
  {
   "cell_type": "code",
   "execution_count": 4,
   "metadata": {},
   "outputs": [
    {
     "name": "stdout",
     "output_type": "stream",
     "text": [
      "Writing WordCountMapper.java\n"
     ]
    }
   ],
   "source": [
    "%%writefile WordCountMapper.java\n",
    "import java.io.IOException;\n",
    "import org.apache.hadoop.io.IntWritable;\n",
    "import org.apache.hadoop.io.LongWritable;\n",
    "import org.apache.hadoop.io.Text;\n",
    "import org.apache.hadoop.mapreduce.Mapper;\n",
    "\n",
    "public class WordCountMapper extends Mapper<LongWritable, Text, Text, IntWritable>\n",
    "{\n",
    "  private final static IntWritable one = new IntWritable(1);\n",
    "  private Text wordObject = new Text();\n",
    "\n",
    "  @Override\n",
    "  public void map(LongWritable key, Text value, Context context)\n",
    "    throws IOException, InterruptedException {\n",
    "\n",
    "   String line = value.toString();\n",
    "   for (String word : line.split(\"\\\\W+\")) {\n",
    "    if (word.length() > 0) {\n",
    "     wordObject.set(word);\n",
    "     context.write(wordObject, one);\n",
    "    }\n",
    "   }\n",
    "  }\n",
    "}"
   ]
  },
  {
   "cell_type": "code",
   "execution_count": 5,
   "metadata": {},
   "outputs": [
    {
     "name": "stdout",
     "output_type": "stream",
     "text": [
      "Writing WordCountReducer.java\n"
     ]
    }
   ],
   "source": [
    "%%writefile WordCountReducer.java\n",
    "// WordCountReducer.java\n",
    "import java.io.IOException;\n",
    "import org.apache.hadoop.io.IntWritable;\n",
    "import org.apache.hadoop.io.Text;\n",
    "import org.apache.hadoop.mapreduce.Reducer;\n",
    "\n",
    "public class WordCountReducer extends Reducer<Text, IntWritable, Text, IntWritable>\n",
    "{\n",
    "  private IntWritable wordCountWritable = new IntWritable();\n",
    "  @Override\n",
    "   public void reduce(Text key, Iterable<IntWritable> values, Context context)\n",
    "             throws IOException, InterruptedException {\n",
    "         int wordCount = 0;\n",
    "         for (IntWritable value : values) {\n",
    "             wordCount += value.get();\n",
    "         }\n",
    "         wordCountWritable.set(wordCount);\n",
    "         context.write(key, wordCountWritable);\n",
    "    }\n",
    "}"
   ]
  },
  {
   "cell_type": "code",
   "execution_count": 6,
   "metadata": {},
   "outputs": [
    {
     "name": "stdout",
     "output_type": "stream",
     "text": [
      "/opt/hadoop/etc/hadoop:/opt/hadoop/share/hadoop/common/lib/*:/opt/hadoop/share/hadoop/common/*:/opt/hadoop/share/hadoop/hdfs:/opt/hadoop/share/hadoop/hdfs/lib/*:/opt/hadoop/share/hadoop/hdfs/*:/opt/hadoop/share/hadoop/mapreduce/lib/*:/opt/hadoop/share/hadoop/mapreduce/*:/opt/hadoop/share/hadoop/yarn:/opt/hadoop/share/hadoop/yarn/lib/*:/opt/hadoop/share/hadoop/yarn/*\n"
     ]
    }
   ],
   "source": [
    "%%bash\n",
    "\n",
    "hadoop classpath"
   ]
  },
  {
   "cell_type": "code",
   "execution_count": 7,
   "metadata": {},
   "outputs": [
    {
     "name": "stdout",
     "output_type": "stream",
     "text": [
      "added manifest\n",
      "adding: WordCountDriver.class(in = 2277) (out= 1104)(deflated 51%)\n",
      "adding: WordCountMapper.class(in = 1921) (out= 813)(deflated 57%)\n",
      "adding: WordCountReducer.class(in = 1711) (out= 719)(deflated 57%)\n",
      "WordCountDriver.class\n",
      "WordCountDriver.java\n",
      "WordCountMapper.class\n",
      "WordCountMapper.java\n",
      "WordCountReducer.class\n",
      "WordCountReducer.java\n",
      "wc.jar\n"
     ]
    }
   ],
   "source": [
    "%%bash\n",
    "\n",
    "# compile source code and create jar file\n",
    "javac -classpath `hadoop classpath` *.java\n",
    "jar cvf wc.jar *.class\n",
    "ls"
   ]
  },
  {
   "cell_type": "code",
   "execution_count": 8,
   "metadata": {},
   "outputs": [
    {
     "name": "stdout",
     "output_type": "stream",
     "text": [
      "Found 1 items\n",
      "-rw-r--r--   2 hadoop hadoop      5.5 M 2021-01-29 12:53 shakespeare/shakespeare.txt\n"
     ]
    },
    {
     "name": "stderr",
     "output_type": "stream",
     "text": [
      "2021-01-29 12:53:10,798 INFO sasl.SaslDataTransferClient: SASL encryption trust check: localHostTrusted = false, remoteHostTrusted = false\n"
     ]
    }
   ],
   "source": [
    "%%bash\n",
    "\n",
    "cd /opt/datasets\n",
    "# download book \"The Complete Works of William Shakespeare, by William Shakespeare\" from Gutenberg Project\n",
    "wget -q -c http://www.gutenberg.org/files/100/100-0.txt -O shakespeare.txt\n",
    "    \n",
    "# create directory in HDFS and put file\n",
    "hdfs dfs -mkdir shakespeare\n",
    "hdfs dfs -put shakespeare.txt shakespeare\n",
    "hdfs dfs -ls -h shakespeare"
   ]
  },
  {
   "cell_type": "code",
   "execution_count": 9,
   "metadata": {},
   "outputs": [
    {
     "name": "stderr",
     "output_type": "stream",
     "text": [
      "2021-01-29 12:54:45,437 INFO client.RMProxy: Connecting to ResourceManager at hadoop/172.17.0.2:8032\n",
      "2021-01-29 12:54:46,441 INFO client.AHSProxy: Connecting to Application History server at hadoop/172.17.0.2:10200\n",
      "2021-01-29 12:54:47,241 INFO mapreduce.JobResourceUploader: Disabling Erasure Coding for path: /tmp/hadoop-yarn/staging/hadoop/.staging/job_1611844877680_0007\n",
      "2021-01-29 12:54:47,568 INFO sasl.SaslDataTransferClient: SASL encryption trust check: localHostTrusted = false, remoteHostTrusted = false\n",
      "2021-01-29 12:54:48,499 INFO input.FileInputFormat: Total input files to process : 1\n",
      "2021-01-29 12:54:48,631 INFO sasl.SaslDataTransferClient: SASL encryption trust check: localHostTrusted = false, remoteHostTrusted = false\n",
      "2021-01-29 12:54:48,856 INFO sasl.SaslDataTransferClient: SASL encryption trust check: localHostTrusted = false, remoteHostTrusted = false\n",
      "2021-01-29 12:54:48,903 INFO mapreduce.JobSubmitter: number of splits:1\n",
      "2021-01-29 12:54:49,429 INFO sasl.SaslDataTransferClient: SASL encryption trust check: localHostTrusted = false, remoteHostTrusted = false\n",
      "2021-01-29 12:54:49,525 INFO mapreduce.JobSubmitter: Submitting tokens for job: job_1611844877680_0007\n",
      "2021-01-29 12:54:49,526 INFO mapreduce.JobSubmitter: Executing with tokens: []\n",
      "2021-01-29 12:54:50,977 INFO conf.Configuration: resource-types.xml not found\n",
      "2021-01-29 12:54:50,979 INFO resource.ResourceUtils: Unable to find 'resource-types.xml'.\n",
      "2021-01-29 12:54:51,529 INFO impl.YarnClientImpl: Submitted application application_1611844877680_0007\n",
      "2021-01-29 12:54:51,873 INFO mapreduce.Job: The url to track the job: http://hadoop:8088/proxy/application_1611844877680_0007/\n",
      "2021-01-29 12:54:51,878 INFO mapreduce.Job: Running job: job_1611844877680_0007\n",
      "2021-01-29 12:55:19,281 INFO mapreduce.Job: Job job_1611844877680_0007 running in uber mode : false\n",
      "2021-01-29 12:55:19,298 INFO mapreduce.Job:  map 0% reduce 0%\n",
      "2021-01-29 12:55:41,482 INFO mapreduce.Job:  map 100% reduce 0%\n",
      "2021-01-29 12:56:11,818 INFO mapreduce.Job:  map 100% reduce 48%\n",
      "2021-01-29 12:56:12,898 INFO mapreduce.Job:  map 100% reduce 50%\n",
      "2021-01-29 12:56:13,969 INFO mapreduce.Job:  map 100% reduce 100%\n",
      "2021-01-29 12:56:16,083 INFO mapreduce.Job: Job job_1611844877680_0007 completed successfully\n",
      "2021-01-29 12:56:16,468 INFO mapreduce.Job: Counters: 55\n",
      "\tFile System Counters\n",
      "\t\tFILE: Number of bytes read=11009532\n",
      "\t\tFILE: Number of bytes written=22697776\n",
      "\t\tFILE: Number of read operations=0\n",
      "\t\tFILE: Number of large read operations=0\n",
      "\t\tFILE: Number of write operations=0\n",
      "\t\tHDFS: Number of bytes read=5757243\n",
      "\t\tHDFS: Number of bytes written=334736\n",
      "\t\tHDFS: Number of read operations=13\n",
      "\t\tHDFS: Number of large read operations=0\n",
      "\t\tHDFS: Number of write operations=4\n",
      "\t\tHDFS: Number of bytes read erasure-coded=0\n",
      "\tJob Counters \n",
      "\t\tKilled reduce tasks=1\n",
      "\t\tLaunched map tasks=1\n",
      "\t\tLaunched reduce tasks=2\n",
      "\t\tData-local map tasks=1\n",
      "\t\tTotal time spent by all maps in occupied slots (ms)=36738\n",
      "\t\tTotal time spent by all reduces in occupied slots (ms)=112512\n",
      "\t\tTotal time spent by all map tasks (ms)=18369\n",
      "\t\tTotal time spent by all reduce tasks (ms)=56256\n",
      "\t\tTotal vcore-milliseconds taken by all map tasks=18369\n",
      "\t\tTotal vcore-milliseconds taken by all reduce tasks=56256\n",
      "\t\tTotal megabyte-milliseconds taken by all map tasks=4702464\n",
      "\t\tTotal megabyte-milliseconds taken by all reduce tasks=14401536\n",
      "\tMap-Reduce Framework\n",
      "\t\tMap input records=170608\n",
      "\t\tMap output records=993749\n",
      "\t\tMap output bytes=9022022\n",
      "\t\tMap output materialized bytes=11009532\n",
      "\t\tInput split bytes=123\n",
      "\t\tCombine input records=0\n",
      "\t\tCombine output records=0\n",
      "\t\tReduce input groups=33080\n",
      "\t\tReduce shuffle bytes=11009532\n",
      "\t\tReduce input records=993749\n",
      "\t\tReduce output records=33080\n",
      "\t\tSpilled Records=1987498\n",
      "\t\tShuffled Maps =2\n",
      "\t\tFailed Shuffles=0\n",
      "\t\tMerged Map outputs=2\n",
      "\t\tGC time elapsed (ms)=1368\n",
      "\t\tCPU time spent (ms)=28940\n",
      "\t\tPhysical memory (bytes) snapshot=616329216\n",
      "\t\tVirtual memory (bytes) snapshot=5750951936\n",
      "\t\tTotal committed heap usage (bytes)=381681664\n",
      "\t\tPeak Map Physical memory (bytes)=281251840\n",
      "\t\tPeak Map Virtual memory (bytes)=1909878784\n",
      "\t\tPeak Reduce Physical memory (bytes)=170024960\n",
      "\t\tPeak Reduce Virtual memory (bytes)=1922183168\n",
      "\tShuffle Errors\n",
      "\t\tBAD_ID=0\n",
      "\t\tCONNECTION=0\n",
      "\t\tIO_ERROR=0\n",
      "\t\tWRONG_LENGTH=0\n",
      "\t\tWRONG_MAP=0\n",
      "\t\tWRONG_REDUCE=0\n",
      "\tFile Input Format Counters \n",
      "\t\tBytes Read=5757120\n",
      "\tFile Output Format Counters \n",
      "\t\tBytes Written=334736\n"
     ]
    }
   ],
   "source": [
    "%%bash\n",
    "\n",
    "# run wordcount using 2 reducers\n",
    "hadoop jar wc.jar WordCountDriver -D mapreduce.job.reduces=2 shakespeare shakespeare-output"
   ]
  },
  {
   "cell_type": "code",
   "execution_count": 10,
   "metadata": {},
   "outputs": [
    {
     "name": "stdout",
     "output_type": "stream",
     "text": [
      "Found 3 items\n",
      "-rw-r--r--   2 hadoop hadoop          0 2021-01-29 12:56 shakespeare-output/_SUCCESS\n",
      "-rw-r--r--   2 hadoop hadoop     168219 2021-01-29 12:56 shakespeare-output/part-r-00000\n",
      "-rw-r--r--   2 hadoop hadoop     166517 2021-01-29 12:56 shakespeare-output/part-r-00001\n",
      "1\t117\n",
      "10\t3\n",
      "100\t6\n",
      "1000\t1\n",
      "1004\t1\n",
      "102\t1\n",
      "1020\t1\n",
      "1024\t1\n",
      "1028\t1\n",
      "1033\t1\n"
     ]
    },
    {
     "name": "stderr",
     "output_type": "stream",
     "text": [
      "2021-01-29 12:58:05,073 INFO sasl.SaslDataTransferClient: SASL encryption trust check: localHostTrusted = false, remoteHostTrusted = false\n"
     ]
    }
   ],
   "source": [
    "%%bash\n",
    "\n",
    "cd /opt/datasets\n",
    "\n",
    "# check output files\n",
    "hdfs dfs -ls shakespeare-output\n",
    "\n",
    "# get output from HDFS\n",
    "hdfs dfs -getmerge shakespeare-output shakespeare-output.txt\n",
    "\n",
    "# head shakespeare-output.txt\n",
    "head shakespeare-output.txt"
   ]
  },
  {
   "cell_type": "markdown",
   "metadata": {},
   "source": [
    "## Hadoop Streaming"
   ]
  },
  {
   "cell_type": "code",
   "execution_count": 11,
   "metadata": {},
   "outputs": [
    {
     "name": "stdout",
     "output_type": "stream",
     "text": [
      "/opt/src/wc_streaming\n"
     ]
    }
   ],
   "source": [
    "%mkdir /opt/src/wc_streaming\n",
    "%cd /opt/src/wc_streaming"
   ]
  },
  {
   "cell_type": "code",
   "execution_count": 12,
   "metadata": {},
   "outputs": [
    {
     "name": "stdout",
     "output_type": "stream",
     "text": [
      "Writing wordmapper.py\n"
     ]
    }
   ],
   "source": [
    "%%writefile wordmapper.py\n",
    "#!/usr/bin/env python3\n",
    "# wordmapper.py\n",
    "\n",
    "import sys\n",
    "for line in sys.stdin:\n",
    "  line = line.strip()\n",
    "  words = line.split()\n",
    "  for word in words:\n",
    "   print('%s\\t%s' % (word, 1))"
   ]
  },
  {
   "cell_type": "code",
   "execution_count": 13,
   "metadata": {},
   "outputs": [
    {
     "name": "stdout",
     "output_type": "stream",
     "text": [
      "Writing wordreducer.py\n"
     ]
    }
   ],
   "source": [
    "%%writefile wordreducer.py\n",
    "#!/usr/bin/env python3\n",
    "# wordreducer.py\n",
    "\n",
    "import sys\n",
    "\n",
    "thisword = None\n",
    "wordcount = 0\n",
    "word = None\n",
    "\n",
    "for line in sys.stdin:\n",
    "    line = line.strip()\n",
    "    word, count = line.split('\\t', 1)\n",
    "    count = int(count)\n",
    "\n",
    "    if thisword == word:\n",
    "        wordcount += count\n",
    "    else:\n",
    "        if thisword:\n",
    "            print('%s\\t%d' % (thisword, wordcount))\n",
    "        wordcount = count\n",
    "        thisword = word\n",
    "\n",
    "if thisword == word:\n",
    "    print('%s\\t%d' % (thisword, wordcount))"
   ]
  },
  {
   "cell_type": "code",
   "execution_count": 14,
   "metadata": {},
   "outputs": [
    {
     "name": "stdout",
     "output_type": "stream",
     "text": [
      "Found 1 items\n",
      "-rw-r--r--   2 hadoop hadoop      1.5 M 2021-01-29 13:00 ulysses/ulysses.txt\n"
     ]
    },
    {
     "name": "stderr",
     "output_type": "stream",
     "text": [
      "2021-01-29 13:00:51,923 INFO sasl.SaslDataTransferClient: SASL encryption trust check: localHostTrusted = false, remoteHostTrusted = false\n"
     ]
    }
   ],
   "source": [
    "%%bash\n",
    "\n",
    "cd /opt/datasets\n",
    "\n",
    "# download book \"Ulysses, by James Joyce\" from Gutenberg Project\n",
    "wget -q -c http://www.gutenberg.org/files/4300/4300-0.txt -O ulysses.txt\n",
    "    \n",
    "# create directory in HDFS and put file\n",
    "hdfs dfs -mkdir ulysses\n",
    "hdfs dfs -put ulysses.txt ulysses\n",
    "hdfs dfs -ls -h ulysses"
   ]
  },
  {
   "cell_type": "code",
   "execution_count": 15,
   "metadata": {},
   "outputs": [
    {
     "name": "stdout",
     "output_type": "stream",
     "text": [
      "packageJobJar: [wordmapper.py, wordreducer.py, /tmp/hadoop-unjar7214351184219525290/] [] /tmp/streamjob1648118698111977638.jar tmpDir=null\n"
     ]
    },
    {
     "name": "stderr",
     "output_type": "stream",
     "text": [
      "2021-01-29 13:01:17,809 WARN streaming.StreamJob: -file option is deprecated, please use generic option -files instead.\n",
      "2021-01-29 13:01:21,148 INFO client.RMProxy: Connecting to ResourceManager at hadoop/172.17.0.2:8032\n",
      "2021-01-29 13:01:22,242 INFO client.AHSProxy: Connecting to Application History server at hadoop/172.17.0.2:10200\n",
      "2021-01-29 13:01:22,325 INFO client.RMProxy: Connecting to ResourceManager at hadoop/172.17.0.2:8032\n",
      "2021-01-29 13:01:22,328 INFO client.AHSProxy: Connecting to Application History server at hadoop/172.17.0.2:10200\n",
      "2021-01-29 13:01:23,322 INFO mapreduce.JobResourceUploader: Disabling Erasure Coding for path: /tmp/hadoop-yarn/staging/hadoop/.staging/job_1611844877680_0008\n",
      "2021-01-29 13:01:24,370 INFO sasl.SaslDataTransferClient: SASL encryption trust check: localHostTrusted = false, remoteHostTrusted = false\n",
      "2021-01-29 13:01:24,885 INFO sasl.SaslDataTransferClient: SASL encryption trust check: localHostTrusted = false, remoteHostTrusted = false\n",
      "2021-01-29 13:01:25,011 INFO sasl.SaslDataTransferClient: SASL encryption trust check: localHostTrusted = false, remoteHostTrusted = false\n",
      "2021-01-29 13:01:25,513 INFO mapred.FileInputFormat: Total input files to process : 1\n",
      "2021-01-29 13:01:25,595 INFO sasl.SaslDataTransferClient: SASL encryption trust check: localHostTrusted = false, remoteHostTrusted = false\n",
      "2021-01-29 13:01:25,724 INFO sasl.SaslDataTransferClient: SASL encryption trust check: localHostTrusted = false, remoteHostTrusted = false\n",
      "2021-01-29 13:01:25,787 INFO mapreduce.JobSubmitter: number of splits:2\n",
      "2021-01-29 13:01:26,922 INFO sasl.SaslDataTransferClient: SASL encryption trust check: localHostTrusted = false, remoteHostTrusted = false\n",
      "2021-01-29 13:01:27,519 INFO mapreduce.JobSubmitter: Submitting tokens for job: job_1611844877680_0008\n",
      "2021-01-29 13:01:27,519 INFO mapreduce.JobSubmitter: Executing with tokens: []\n",
      "2021-01-29 13:01:28,872 INFO conf.Configuration: resource-types.xml not found\n",
      "2021-01-29 13:01:28,872 INFO resource.ResourceUtils: Unable to find 'resource-types.xml'.\n",
      "2021-01-29 13:01:29,135 INFO impl.YarnClientImpl: Submitted application application_1611844877680_0008\n",
      "2021-01-29 13:01:29,368 INFO mapreduce.Job: The url to track the job: http://hadoop:8088/proxy/application_1611844877680_0008/\n",
      "2021-01-29 13:01:29,376 INFO mapreduce.Job: Running job: job_1611844877680_0008\n",
      "2021-01-29 13:01:48,870 INFO mapreduce.Job: Job job_1611844877680_0008 running in uber mode : false\n",
      "2021-01-29 13:01:48,874 INFO mapreduce.Job:  map 0% reduce 0%\n",
      "2021-01-29 13:02:10,217 INFO mapreduce.Job:  map 50% reduce 0%\n",
      "2021-01-29 13:02:11,259 INFO mapreduce.Job:  map 100% reduce 0%\n",
      "2021-01-29 13:02:22,488 INFO mapreduce.Job:  map 100% reduce 100%\n",
      "2021-01-29 13:02:23,531 INFO mapreduce.Job: Job job_1611844877680_0008 completed successfully\n",
      "2021-01-29 13:02:24,314 INFO mapreduce.Job: Counters: 54\n",
      "\tFile System Counters\n",
      "\t\tFILE: Number of bytes read=2615317\n",
      "\t\tFILE: Number of bytes written=5919748\n",
      "\t\tFILE: Number of read operations=0\n",
      "\t\tFILE: Number of large read operations=0\n",
      "\t\tFILE: Number of write operations=0\n",
      "\t\tHDFS: Number of bytes read=1590788\n",
      "\t\tHDFS: Number of bytes written=530683\n",
      "\t\tHDFS: Number of read operations=11\n",
      "\t\tHDFS: Number of large read operations=0\n",
      "\t\tHDFS: Number of write operations=2\n",
      "\t\tHDFS: Number of bytes read erasure-coded=0\n",
      "\tJob Counters \n",
      "\t\tLaunched map tasks=2\n",
      "\t\tLaunched reduce tasks=1\n",
      "\t\tData-local map tasks=2\n",
      "\t\tTotal time spent by all maps in occupied slots (ms)=78364\n",
      "\t\tTotal time spent by all reduces in occupied slots (ms)=18358\n",
      "\t\tTotal time spent by all map tasks (ms)=39182\n",
      "\t\tTotal time spent by all reduce tasks (ms)=9179\n",
      "\t\tTotal vcore-milliseconds taken by all map tasks=39182\n",
      "\t\tTotal vcore-milliseconds taken by all reduce tasks=9179\n",
      "\t\tTotal megabyte-milliseconds taken by all map tasks=10030592\n",
      "\t\tTotal megabyte-milliseconds taken by all reduce tasks=2349824\n",
      "\tMap-Reduce Framework\n",
      "\t\tMap input records=33230\n",
      "\t\tMap output records=268131\n",
      "\t\tMap output bytes=2079049\n",
      "\t\tMap output materialized bytes=2615323\n",
      "\t\tInput split bytes=204\n",
      "\t\tCombine input records=0\n",
      "\t\tCombine output records=0\n",
      "\t\tReduce input groups=49937\n",
      "\t\tReduce shuffle bytes=2615323\n",
      "\t\tReduce input records=268131\n",
      "\t\tReduce output records=49937\n",
      "\t\tSpilled Records=536262\n",
      "\t\tShuffled Maps =2\n",
      "\t\tFailed Shuffles=0\n",
      "\t\tMerged Map outputs=2\n",
      "\t\tGC time elapsed (ms)=664\n",
      "\t\tCPU time spent (ms)=18510\n",
      "\t\tPhysical memory (bytes) snapshot=710537216\n",
      "\t\tVirtual memory (bytes) snapshot=5749657600\n",
      "\t\tTotal committed heap usage (bytes)=473956352\n",
      "\t\tPeak Map Physical memory (bytes)=275898368\n",
      "\t\tPeak Map Virtual memory (bytes)=1915777024\n",
      "\t\tPeak Reduce Physical memory (bytes)=165527552\n",
      "\t\tPeak Reduce Virtual memory (bytes)=1919115264\n",
      "\tShuffle Errors\n",
      "\t\tBAD_ID=0\n",
      "\t\tCONNECTION=0\n",
      "\t\tIO_ERROR=0\n",
      "\t\tWRONG_LENGTH=0\n",
      "\t\tWRONG_MAP=0\n",
      "\t\tWRONG_REDUCE=0\n",
      "\tFile Input Format Counters \n",
      "\t\tBytes Read=1590584\n",
      "\tFile Output Format Counters \n",
      "\t\tBytes Written=530683\n",
      "2021-01-29 13:02:24,314 INFO streaming.StreamJob: Output directory: ulysses-output\n"
     ]
    }
   ],
   "source": [
    "%%bash\n",
    "\n",
    "# execute using Hadoop Streaming\n",
    "hadoop jar \\\n",
    "$HADOOP_HOME/share/hadoop/tools/lib/hadoop-streaming-3.2.1.jar \\\n",
    "-input ulysses \\\n",
    "-output ulysses-output \\\n",
    "-mapper wordmapper.py \\\n",
    "-reducer wordreducer.py \\\n",
    "-file wordmapper.py \\\n",
    "-file wordreducer.py"
   ]
  },
  {
   "cell_type": "code",
   "execution_count": 16,
   "metadata": {},
   "outputs": [
    {
     "name": "stdout",
     "output_type": "stream",
     "text": [
      "Found 2 items\n",
      "-rw-r--r--   2 hadoop hadoop          0 2021-01-29 13:02 ulysses-output/_SUCCESS\n",
      "-rw-r--r--   2 hadoop hadoop     530683 2021-01-29 13:02 ulysses-output/part-00000\n",
      "\"Defects,\"\t1\n",
      "\"Information\t1\n",
      "\"Plain\t2\n",
      "\"Project\t5\n",
      "\"Right\t1\n",
      "#4300]\t1\n",
      "$5,000)\t1\n",
      "%\t4\n",
      "&c,\t2\n",
      "&c.\t1\n"
     ]
    },
    {
     "name": "stderr",
     "output_type": "stream",
     "text": [
      "2021-01-29 13:02:51,299 INFO sasl.SaslDataTransferClient: SASL encryption trust check: localHostTrusted = false, remoteHostTrusted = false\n"
     ]
    }
   ],
   "source": [
    "%%bash\n",
    "\n",
    "cd /opt/datasets\n",
    "\n",
    "# check output files\n",
    "hdfs dfs -ls ulysses-output\n",
    "\n",
    "# get output from HDFS\n",
    "hdfs dfs -getmerge ulysses-output ulysses-output.txt\n",
    "\n",
    "# head output\n",
    "head ulysses-output.txt"
   ]
  },
  {
   "cell_type": "code",
   "execution_count": null,
   "metadata": {},
   "outputs": [],
   "source": []
  }
 ],
 "metadata": {
  "kernelspec": {
   "display_name": "Python 3",
   "language": "python",
   "name": "python3"
  },
  "language_info": {
   "codemirror_mode": {
    "name": "ipython",
    "version": 3
   },
   "file_extension": ".py",
   "mimetype": "text/x-python",
   "name": "python",
   "nbconvert_exporter": "python",
   "pygments_lexer": "ipython3",
   "version": "3.6.9"
  }
 },
 "nbformat": 4,
 "nbformat_minor": 4
}
