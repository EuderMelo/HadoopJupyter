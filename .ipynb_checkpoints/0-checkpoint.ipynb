{
 "cells": [
  {
   "cell_type": "code",
   "execution_count": 4,
   "metadata": {},
   "outputs": [
    {
     "name": "stdout",
     "output_type": "stream",
     "text": [
      "Overwriting dockermagic.py\n"
     ]
    }
   ],
   "source": [
    "%%writefile dockermagic.py\n",
    "import pandas as pd\n",
    "from io import StringIO\n",
    "import tempfile\n",
    "import os\n",
    "import pandas as pd\n",
    "from io import StringIO\n",
    "\n",
    "def csv(line, cell):\n",
    "    sio = StringIO(cell)\n",
    "    return pd.read_csv(sio)\n",
    "\n",
    "# @register_cell_magic\n",
    "def dockerexec(args, cell):\n",
    "    tmpf, filename = tempfile.mkstemp()\n",
    "    os.write(tmpf, bytes(cell, \"utf8\"))\n",
    "    get_ipython().system(\"/usr/local/bin/docker exec -i {0} bash < {1}\".format(args, filename))\n",
    "#     !docker exec -i {args} bash < {filename}\n",
    "    os.close(tmpf)\n",
    "\n",
    "# def dockerscreen(line, cell):\n",
    "#     args = line.split()\n",
    "#     if args == '\n",
    "# screen -d -m -S pig -L -Logfile pig.output -s bash /opt/pig/bin/pig\n",
    "# screen -S pig -p 0 -X stuff \"stations = LOAD 'stations.csv' USING PigStorage(',') AS \n",
    "# (station_id:int, name:chararray, lat:float, long:float, \n",
    "#  dockcount:int, landmark:chararray, installation:chararray);\\n\"\n",
    "# screen -S pig -p 0 -X stuff \"DESCRIBE stations;\\n\"\n",
    "# screen -S pig -X quit\n",
    "# # screen documentation - https://www.gnu.org/software/screen/manual/screen.html\n",
    "\n",
    "\n",
    "def write_and_run(line, cell):\n",
    "    argz = line.split()\n",
    "    file = argz[-1]\n",
    "    mode = 'w'\n",
    "    if len(argz) == 2 and argz[0] == '-a':\n",
    "        mode = 'a'\n",
    "    with open(file, mode) as f:\n",
    "        f.write(cell)\n",
    "    get_ipython().run_cell(cell)\n",
    "    \n",
    "def load_ipython_extension(ipython):\n",
    "    \"\"\"This function is called when the extension is\n",
    "    loaded. It accepts an IPython InteractiveShell\n",
    "    instance. We can register the magic with the\n",
    "    `register_magic_function` method of the shell\n",
    "    instance.\"\"\"\n",
    "    os.environ[\"PATH\"] = \"/bin:/sbin:/usr/bin:/usr/sbin:/usr/local/bin:/usr/local/sbin\"\n",
    "    ipython.register_magic_function(csv, 'cell')\n",
    "    ipython.register_magic_function(dockerexec, 'cell')\n",
    "\n",
    "#%load_ext dockermagic\n",
    "    \n",
    "# dockerexec magic\n",
    "# from IPython.core.magic import register_cell_magic\n",
    "\n",
    "\n",
    "# @register_cell_magic\n",
    "# def csv(line, cell):\n",
    "#     # We create a string buffer containing the\n",
    "#     # contents of the cell.\n",
    "#     sio = StringIO(cell)\n",
    "#     # We use Pandas' read_csv function to parse\n",
    "#     # the CSV string.\n",
    "#     return pd.read_csv(sio)\n",
    "\n",
    "# @register_cell_magic\n",
    "# def dockerscreen(args, cell):\n",
    "#     tmpf, filename = tempfile.mkstemp()\n",
    "#     os.write(tmpf, bytes(cell, \"utf8\"))\n",
    "#     !docker exec -i {args} bash < {filename}\n",
    "#     os.close(tmpf)\n"
   ]
  },
  {
   "cell_type": "code",
   "execution_count": null,
   "metadata": {},
   "outputs": [],
   "source": []
  }
 ],
 "metadata": {
  "kernelspec": {
   "display_name": "Python 3",
   "language": "python",
   "name": "python3"
  },
  "language_info": {
   "codemirror_mode": {
    "name": "ipython",
    "version": 3
   },
   "file_extension": ".py",
   "mimetype": "text/x-python",
   "name": "python",
   "nbconvert_exporter": "python",
   "pygments_lexer": "ipython3",
   "version": "3.7.9"
  }
 },
 "nbformat": 4,
 "nbformat_minor": 4
}
