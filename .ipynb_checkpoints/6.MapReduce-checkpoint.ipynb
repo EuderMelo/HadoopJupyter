{
 "cells": [
  {
   "cell_type": "code",
   "execution_count": 1,
   "metadata": {},
   "outputs": [],
   "source": [
    "%load_ext dockermagic"
   ]
  },
  {
   "cell_type": "markdown",
   "metadata": {},
   "source": [
    "# MapReduce"
   ]
  },
  {
   "cell_type": "markdown",
   "metadata": {},
   "source": [
    "## Java Map Reduce API - WordCount"
   ]
  },
  {
   "cell_type": "code",
   "execution_count": 2,
   "metadata": {},
   "outputs": [
    {
     "name": "stdout",
     "output_type": "stream",
     "text": [
      "mkdir: wc_java: File exists\n"
     ]
    }
   ],
   "source": [
    "%mkdir wc_java"
   ]
  },
  {
   "cell_type": "code",
   "execution_count": 3,
   "metadata": {},
   "outputs": [
    {
     "name": "stdout",
     "output_type": "stream",
     "text": [
      "Overwriting wc_java/WordCountDriver.java\n"
     ]
    }
   ],
   "source": [
    "%%writefile wc_java/WordCountDriver.java\n",
    "// WordCountDriver.java\n",
    "import org.apache.hadoop.fs.Path;\n",
    "import org.apache.hadoop.io.IntWritable;\n",
    "import org.apache.hadoop.io.Text;\n",
    "import org.apache.hadoop.mapreduce.lib.input.FileInputFormat;\n",
    "import org.apache.hadoop.mapreduce.lib.output.FileOutputFormat;\n",
    "import org.apache.hadoop.mapreduce.Job;\n",
    "import org.apache.hadoop.conf.Configured;\n",
    "import org.apache.hadoop.conf.Configuration;\n",
    "import org.apache.hadoop.util.Tool;\n",
    "import org.apache.hadoop.util.ToolRunner;\n",
    "\n",
    "public class WordCountDriver extends Configured implements Tool {\n",
    "  public int run(String[] args) throws Exception {\n",
    "   if (args.length != 2) {\n",
    "    System.out.printf(\"Usage: %s [generic options] <inputdir> <outputdir>\\n\", getClass().getSimpleName());\n",
    "    return -1;\n",
    "   }\n",
    "\n",
    "   Job job = Job.getInstance(getConf(), \"Word Count\");\n",
    "   job.setJarByClass(WordCountDriver.class);\n",
    "   FileInputFormat.setInputPaths(job, new Path(args[0]));\n",
    "   FileOutputFormat.setOutputPath(job, new Path(args[1]));\n",
    "   job.setMapperClass(WordCountMapper.class);\n",
    "   job.setReducerClass(WordCountReducer.class);\n",
    "   job.setMapOutputKeyClass(Text.class);\n",
    "   job.setMapOutputValueClass(IntWritable.class);\n",
    "   job.setOutputKeyClass(Text.class);\n",
    "   job.setOutputValueClass(IntWritable.class);\n",
    "   boolean success = job.waitForCompletion(true);\n",
    "   return success ? 0 : 1;\n",
    " }\n",
    "\n",
    " public static void main(String[] args) throws Exception {\n",
    "   int exitCode = ToolRunner.run(new Configuration(), new WordCountDriver(), args);\n",
    "   System.exit(exitCode);\n",
    " }\n",
    "}"
   ]
  },
  {
   "cell_type": "code",
   "execution_count": 4,
   "metadata": {},
   "outputs": [
    {
     "name": "stdout",
     "output_type": "stream",
     "text": [
      "Overwriting wc_java/WordCountMapper.java\n"
     ]
    }
   ],
   "source": [
    "%%writefile wc_java/WordCountMapper.java\n",
    "import java.io.IOException;\n",
    "import org.apache.hadoop.io.IntWritable;\n",
    "import org.apache.hadoop.io.LongWritable;\n",
    "import org.apache.hadoop.io.Text;\n",
    "import org.apache.hadoop.mapreduce.Mapper;\n",
    "\n",
    "public class WordCountMapper extends Mapper<LongWritable, Text, Text, IntWritable>\n",
    "{\n",
    "  private final static IntWritable one = new IntWritable(1);\n",
    "  private Text wordObject = new Text();\n",
    "\n",
    "  @Override\n",
    "  public void map(LongWritable key, Text value, Context context)\n",
    "    throws IOException, InterruptedException {\n",
    "\n",
    "   String line = value.toString();\n",
    "   for (String word : line.split(\"\\\\W+\")) {\n",
    "    if (word.length() > 0) {\n",
    "     wordObject.set(word);\n",
    "     context.write(wordObject, one);\n",
    "    }\n",
    "   }\n",
    "  }\n",
    "}"
   ]
  },
  {
   "cell_type": "code",
   "execution_count": 5,
   "metadata": {},
   "outputs": [
    {
     "name": "stdout",
     "output_type": "stream",
     "text": [
      "Overwriting wc_java/WordCountReducer.java\n"
     ]
    }
   ],
   "source": [
    "%%writefile wc_java/WordCountReducer.java\n",
    "// WordCountReducer.java\n",
    "import java.io.IOException;\n",
    "import org.apache.hadoop.io.IntWritable;\n",
    "import org.apache.hadoop.io.Text;\n",
    "import org.apache.hadoop.mapreduce.Reducer;\n",
    "\n",
    "public class WordCountReducer extends Reducer<Text, IntWritable, Text, IntWritable>\n",
    "{\n",
    "  private IntWritable wordCountWritable = new IntWritable();\n",
    "  @Override\n",
    "   public void reduce(Text key, Iterable<IntWritable> values, Context context)\n",
    "             throws IOException, InterruptedException {\n",
    "         int wordCount = 0;\n",
    "         for (IntWritable value : values) {\n",
    "             wordCount += value.get();\n",
    "         }\n",
    "         wordCountWritable.set(wordCount);\n",
    "         context.write(key, wordCountWritable);\n",
    "    }\n",
    "}"
   ]
  },
  {
   "cell_type": "code",
   "execution_count": 6,
   "metadata": {},
   "outputs": [],
   "source": [
    "%%bash\n",
    "\n",
    "docker cp wc_java hadoop:/opt\n",
    "docker exec hadoop chown -R hadoop:hadoop /opt/wc_java"
   ]
  },
  {
   "cell_type": "code",
   "execution_count": 7,
   "metadata": {},
   "outputs": [
    {
     "name": "stdout",
     "output_type": "stream",
     "text": [
      "added manifest\n",
      "adding: WordCountDriver.class(in = 2277) (out= 1104)(deflated 51%)\n",
      "adding: WordCountMapper.class(in = 1921) (out= 813)(deflated 57%)\n",
      "adding: WordCountReducer.class(in = 1711) (out= 719)(deflated 57%)\n",
      "WordCountDriver.class\n",
      "WordCountDriver.java\n",
      "WordCountMapper.class\n",
      "WordCountMapper.java\n",
      "WordCountReducer.class\n",
      "WordCountReducer.java\n",
      "wc.jar\n"
     ]
    }
   ],
   "source": [
    "%%dockerexec -u hadoop hadoop\n",
    "source /opt/envvars.sh\n",
    "\n",
    "# compile source code and create jar file\n",
    "cd /opt/wc_java\n",
    "javac -classpath `hadoop classpath` *.java\n",
    "jar cvf wc.jar *.class\n",
    "ls"
   ]
  },
  {
   "cell_type": "code",
   "execution_count": 9,
   "metadata": {},
   "outputs": [
    {
     "name": "stdout",
     "output_type": "stream",
     "text": [
      "mkdir: `shakespeare': File exists\n",
      "2021-01-11 00:44:02,619 INFO sasl.SaslDataTransferClient: SASL encryption trust check: localHostTrusted = false, remoteHostTrusted = false\n",
      "Found 1 items\n",
      "-rw-r--r--   2 hadoop hadoop      5.5 M 2021-01-11 00:44 shakespeare/shakespeare.txt\n"
     ]
    }
   ],
   "source": [
    "%%dockerexec -u hadoop hadoop\n",
    "source /opt/envvars.sh\n",
    "\n",
    "[ ! -d \"/opt/datasets\" ] && mkdir /opt/datasets\n",
    "cd /opt/datasets\n",
    "# download book \"The Complete Works of William Shakespeare, by William Shakespeare\" from Gutenberg Project\n",
    "wget -q -c http://www.gutenberg.org/files/100/100-0.txt -O shakespeare.txt\n",
    "    \n",
    "# create directory in HDFS and put file\n",
    "hdfs dfs -mkdir shakespeare\n",
    "hdfs dfs -put shakespeare.txt shakespeare\n",
    "hdfs dfs -ls -h shakespeare"
   ]
  },
  {
   "cell_type": "code",
   "execution_count": 10,
   "metadata": {},
   "outputs": [
    {
     "name": "stdout",
     "output_type": "stream",
     "text": [
      "2021-01-11 00:44:22,952 INFO client.RMProxy: Connecting to ResourceManager at hadoop/172.17.0.2:8032\n",
      "2021-01-11 00:44:23,405 INFO client.AHSProxy: Connecting to Application History server at hadoop/172.17.0.2:10200\n",
      "2021-01-11 00:44:23,901 INFO mapreduce.JobResourceUploader: Disabling Erasure Coding for path: /tmp/hadoop-yarn/staging/hadoop/.staging/job_1610315082616_0002\n",
      "2021-01-11 00:44:24,217 INFO sasl.SaslDataTransferClient: SASL encryption trust check: localHostTrusted = false, remoteHostTrusted = false\n",
      "2021-01-11 00:44:24,684 INFO input.FileInputFormat: Total input files to process : 1\n",
      "2021-01-11 00:44:24,784 INFO sasl.SaslDataTransferClient: SASL encryption trust check: localHostTrusted = false, remoteHostTrusted = false\n",
      "2021-01-11 00:44:24,920 INFO sasl.SaslDataTransferClient: SASL encryption trust check: localHostTrusted = false, remoteHostTrusted = false\n",
      "2021-01-11 00:44:24,958 INFO mapreduce.JobSubmitter: number of splits:1\n",
      "2021-01-11 00:44:25,265 INFO sasl.SaslDataTransferClient: SASL encryption trust check: localHostTrusted = false, remoteHostTrusted = false\n",
      "2021-01-11 00:44:25,344 INFO mapreduce.JobSubmitter: Submitting tokens for job: job_1610315082616_0002\n",
      "2021-01-11 00:44:25,344 INFO mapreduce.JobSubmitter: Executing with tokens: []\n",
      "2021-01-11 00:44:25,960 INFO conf.Configuration: resource-types.xml not found\n",
      "2021-01-11 00:44:25,962 INFO resource.ResourceUtils: Unable to find 'resource-types.xml'.\n",
      "2021-01-11 00:44:26,525 INFO impl.YarnClientImpl: Submitted application application_1610315082616_0002\n",
      "2021-01-11 00:44:26,714 INFO mapreduce.Job: The url to track the job: http://hadoop:8088/proxy/application_1610315082616_0002/\n",
      "2021-01-11 00:44:26,716 INFO mapreduce.Job: Running job: job_1610315082616_0002\n",
      "2021-01-11 00:44:44,459 INFO mapreduce.Job: Job job_1610315082616_0002 running in uber mode : false\n",
      "2021-01-11 00:44:44,465 INFO mapreduce.Job:  map 0% reduce 0%\n",
      "2021-01-11 00:44:56,838 INFO mapreduce.Job:  map 100% reduce 0%\n",
      "2021-01-11 00:45:11,206 INFO mapreduce.Job:  map 100% reduce 100%\n",
      "2021-01-11 00:45:12,231 INFO mapreduce.Job: Job job_1610315082616_0002 completed successfully\n",
      "2021-01-11 00:45:12,417 INFO mapreduce.Job: Counters: 54\n",
      "\tFile System Counters\n",
      "\t\tFILE: Number of bytes read=11009531\n",
      "\t\tFILE: Number of bytes written=22697774\n",
      "\t\tFILE: Number of read operations=0\n",
      "\t\tFILE: Number of large read operations=0\n",
      "\t\tFILE: Number of write operations=0\n",
      "\t\tHDFS: Number of bytes read=5757242\n",
      "\t\tHDFS: Number of bytes written=334736\n",
      "\t\tHDFS: Number of read operations=13\n",
      "\t\tHDFS: Number of large read operations=0\n",
      "\t\tHDFS: Number of write operations=4\n",
      "\t\tHDFS: Number of bytes read erasure-coded=0\n",
      "\tJob Counters \n",
      "\t\tLaunched map tasks=1\n",
      "\t\tLaunched reduce tasks=2\n",
      "\t\tData-local map tasks=1\n",
      "\t\tTotal time spent by all maps in occupied slots (ms)=20264\n",
      "\t\tTotal time spent by all reduces in occupied slots (ms)=45576\n",
      "\t\tTotal time spent by all map tasks (ms)=10132\n",
      "\t\tTotal time spent by all reduce tasks (ms)=22788\n",
      "\t\tTotal vcore-milliseconds taken by all map tasks=10132\n",
      "\t\tTotal vcore-milliseconds taken by all reduce tasks=22788\n",
      "\t\tTotal megabyte-milliseconds taken by all map tasks=2593792\n",
      "\t\tTotal megabyte-milliseconds taken by all reduce tasks=5833728\n",
      "\tMap-Reduce Framework\n",
      "\t\tMap input records=170608\n",
      "\t\tMap output records=993749\n",
      "\t\tMap output bytes=9022021\n",
      "\t\tMap output materialized bytes=11009531\n",
      "\t\tInput split bytes=123\n",
      "\t\tCombine input records=0\n",
      "\t\tCombine output records=0\n",
      "\t\tReduce input groups=33080\n",
      "\t\tReduce shuffle bytes=11009531\n",
      "\t\tReduce input records=993749\n",
      "\t\tReduce output records=33080\n",
      "\t\tSpilled Records=1987498\n",
      "\t\tShuffled Maps =2\n",
      "\t\tFailed Shuffles=0\n",
      "\t\tMerged Map outputs=2\n",
      "\t\tGC time elapsed (ms)=546\n",
      "\t\tCPU time spent (ms)=12830\n",
      "\t\tPhysical memory (bytes) snapshot=622354432\n",
      "\t\tVirtual memory (bytes) snapshot=5746831360\n",
      "\t\tTotal committed heap usage (bytes)=386924544\n",
      "\t\tPeak Map Physical memory (bytes)=283467776\n",
      "\t\tPeak Map Virtual memory (bytes)=1909878784\n",
      "\t\tPeak Reduce Physical memory (bytes)=171556864\n",
      "\t\tPeak Reduce Virtual memory (bytes)=1918525440\n",
      "\tShuffle Errors\n",
      "\t\tBAD_ID=0\n",
      "\t\tCONNECTION=0\n",
      "\t\tIO_ERROR=0\n",
      "\t\tWRONG_LENGTH=0\n",
      "\t\tWRONG_MAP=0\n",
      "\t\tWRONG_REDUCE=0\n",
      "\tFile Input Format Counters \n",
      "\t\tBytes Read=5757119\n",
      "\tFile Output Format Counters \n",
      "\t\tBytes Written=334736\n"
     ]
    }
   ],
   "source": [
    "%%dockerexec -u hadoop hadoop\n",
    "source /opt/envvars.sh\n",
    "\n",
    "# run wordcount using 2 reducers\n",
    "cd /opt/wc_java\n",
    "hadoop jar wc.jar WordCountDriver -D mapreduce.job.reduces=2 shakespeare shakespeare-output"
   ]
  },
  {
   "cell_type": "code",
   "execution_count": 11,
   "metadata": {},
   "outputs": [
    {
     "name": "stdout",
     "output_type": "stream",
     "text": [
      "Found 3 items\n",
      "-rw-r--r--   2 hadoop hadoop          0 2021-01-11 00:45 shakespeare-output/_SUCCESS\n",
      "-rw-r--r--   2 hadoop hadoop     168219 2021-01-11 00:45 shakespeare-output/part-r-00000\n",
      "-rw-r--r--   2 hadoop hadoop     166517 2021-01-11 00:45 shakespeare-output/part-r-00001\n",
      "2021-01-11 00:45:29,373 INFO sasl.SaslDataTransferClient: SASL encryption trust check: localHostTrusted = false, remoteHostTrusted = false\n",
      "2021-01-11 00:45:29,625 INFO sasl.SaslDataTransferClient: SASL encryption trust check: localHostTrusted = false, remoteHostTrusted = false\n",
      "1\t117\n",
      "10\t3\n",
      "100\t6\n",
      "1000\t1\n",
      "1004\t1\n",
      "102\t1\n",
      "1020\t1\n",
      "1024\t1\n",
      "1028\t1\n",
      "1033\t1\n"
     ]
    }
   ],
   "source": [
    "%%dockerexec -u hadoop -w /opt/wc_java hadoop\n",
    "source /opt/envvars.sh\n",
    "\n",
    "# check output files\n",
    "hdfs dfs -ls shakespeare-output\n",
    "\n",
    "# get output from HDFS\n",
    "hdfs dfs -getmerge shakespeare-output shakespeare-output.txt\n",
    "\n",
    "# head shakespeare-output.txt\n",
    "head shakespeare-output.txt"
   ]
  },
  {
   "cell_type": "markdown",
   "metadata": {},
   "source": [
    "## Hadoop Streaming"
   ]
  },
  {
   "cell_type": "code",
   "execution_count": 12,
   "metadata": {},
   "outputs": [
    {
     "name": "stdout",
     "output_type": "stream",
     "text": [
      "mkdir: wc_streaming: File exists\n"
     ]
    }
   ],
   "source": [
    "%mkdir wc_streaming"
   ]
  },
  {
   "cell_type": "code",
   "execution_count": 13,
   "metadata": {},
   "outputs": [
    {
     "name": "stdout",
     "output_type": "stream",
     "text": [
      "Overwriting wc_streaming/wordmapper.py\n"
     ]
    }
   ],
   "source": [
    "%%writefile wc_streaming/wordmapper.py\n",
    "#!/usr/bin/env python3\n",
    "# wordmapper.py\n",
    "\n",
    "import sys\n",
    "for line in sys.stdin:\n",
    "  line = line.strip()\n",
    "  words = line.split()\n",
    "  for word in words:\n",
    "   print('%s\\t%s' % (word, 1))"
   ]
  },
  {
   "cell_type": "code",
   "execution_count": 14,
   "metadata": {},
   "outputs": [
    {
     "name": "stdout",
     "output_type": "stream",
     "text": [
      "Overwriting wc_streaming/wordreducer.py\n"
     ]
    }
   ],
   "source": [
    "%%writefile wc_streaming/wordreducer.py\n",
    "#!/usr/bin/env python3\n",
    "# wordreducer.py\n",
    "\n",
    "import sys\n",
    "\n",
    "thisword = None\n",
    "wordcount = 0\n",
    "word = None\n",
    "\n",
    "for line in sys.stdin:\n",
    "    line = line.strip()\n",
    "    word, count = line.split('\\t', 1)\n",
    "    count = int(count)\n",
    "\n",
    "    if thisword == word:\n",
    "        wordcount += count\n",
    "    else:\n",
    "        if thisword:\n",
    "            print('%s\\t%d' % (thisword, wordcount))\n",
    "        wordcount = count\n",
    "        thisword = word\n",
    "\n",
    "if thisword == word:\n",
    "    print('%s\\t%d' % (thisword, wordcount))"
   ]
  },
  {
   "cell_type": "code",
   "execution_count": 15,
   "metadata": {},
   "outputs": [],
   "source": [
    "%%bash\n",
    "\n",
    "docker cp wc_streaming hadoop:/opt\n",
    "docker exec hadoop chown -R hadoop:hadoop /opt/wc_streaming"
   ]
  },
  {
   "cell_type": "code",
   "execution_count": 16,
   "metadata": {},
   "outputs": [
    {
     "name": "stdout",
     "output_type": "stream",
     "text": [
      "2021-01-11 00:46:18,584 INFO sasl.SaslDataTransferClient: SASL encryption trust check: localHostTrusted = false, remoteHostTrusted = false\n",
      "Found 1 items\n",
      "-rw-r--r--   2 hadoop hadoop      1.5 M 2021-01-11 00:46 ulysses/ulysses.txt\n"
     ]
    }
   ],
   "source": [
    "%%dockerexec -u hadoop hadoop\n",
    "source /opt/envvars.sh\n",
    "\n",
    "cd /opt/datasets\n",
    "\n",
    "# download book \"Ulysses, by James Joyce\" from Gutenberg Project\n",
    "wget -q -c http://www.gutenberg.org/files/4300/4300-0.txt -O ulysses.txt\n",
    "    \n",
    "# create directory in HDFS and put file\n",
    "hdfs dfs -mkdir ulysses\n",
    "hdfs dfs -put ulysses.txt ulysses\n",
    "hdfs dfs -ls -h ulysses"
   ]
  },
  {
   "cell_type": "code",
   "execution_count": 19,
   "metadata": {},
   "outputs": [
    {
     "name": "stdout",
     "output_type": "stream",
     "text": [
      "#4300]\t1\n",
      "1,\t1\n",
      "2008\t1\n",
      "2019\t1\n",
      "27,\t1\n",
      "August\t1\n",
      "Author:\t1\n",
      "Character\t1\n",
      "Date:\t1\n",
      "December\t1\n",
      "EBook\t1\n",
      "English\t1\n",
      "Gutenberg\t2\n",
      "James\t2\n",
      "Joyce\t2\n",
      "Language:\t1\n",
      "Last\t1\n",
      "License\t1\n",
      "Project\t2\n",
      "Release\t1\n",
      "The\t1\n",
      "This\t1\n",
      "Title:\t1\n",
      "UTF-8\t1\n",
      "Ulysses\t1\n",
      "Ulysses,\t1\n",
      "Updated:\t1\n",
      "You\t1\n",
      "[EBook\t1\n",
      "almost\t1\n",
      "and\t1\n",
      "anyone\t1\n",
      "anywhere\t1\n",
      "at\t2\n",
      "away\t1\n",
      "by\t1\n",
      "copy\t1\n",
      "cost\t1\n",
      "eBook\t2\n",
      "encoding:\t1\n",
      "for\t1\n",
      "give\t1\n",
      "included\t1\n",
      "is\t1\n",
      "it\t2\n",
      "it,\t1\n",
      "may\t1\n",
      "no\t2\n",
      "of\t3\n",
      "online\t1\n",
      "or\t2\n",
      "re-use\t1\n",
      "restrictions\t1\n",
      "set\t1\n",
      "terms\t1\n",
      "the\t3\n",
      "this\t1\n",
      "under\t1\n",
      "use\t1\n",
      "whatsoever.\t1\n",
      "with\t2\n",
      "www.gutenberg.org\t1\n",
      "﻿\t1\n"
     ]
    }
   ],
   "source": [
    "%%dockerexec -u hadoop hadoop\n",
    "source /opt/envvars.sh\n",
    "\n",
    "cd /opt/wc_streaming\n",
    "\n",
    "# local test\n",
    "head -n 20 /opt/datasets/ulysses.txt | python3 ./wordmapper.py | sort | python3 ./wordreducer.py"
   ]
  },
  {
   "cell_type": "code",
   "execution_count": 20,
   "metadata": {},
   "outputs": [
    {
     "name": "stdout",
     "output_type": "stream",
     "text": [
      "2021-01-11 00:47:07,621 WARN streaming.StreamJob: -file option is deprecated, please use generic option -files instead.\n",
      "packageJobJar: [wordmapper.py, wordreducer.py, /tmp/hadoop-unjar8766782340396153472/] [] /tmp/streamjob5137315082503567748.jar tmpDir=null\n",
      "2021-01-11 00:47:10,556 INFO client.RMProxy: Connecting to ResourceManager at hadoop/172.17.0.2:8032\n",
      "2021-01-11 00:47:10,941 INFO client.AHSProxy: Connecting to Application History server at hadoop/172.17.0.2:10200\n",
      "2021-01-11 00:47:10,993 INFO client.RMProxy: Connecting to ResourceManager at hadoop/172.17.0.2:8032\n",
      "2021-01-11 00:47:10,994 INFO client.AHSProxy: Connecting to Application History server at hadoop/172.17.0.2:10200\n",
      "2021-01-11 00:47:11,635 INFO mapreduce.JobResourceUploader: Disabling Erasure Coding for path: /tmp/hadoop-yarn/staging/hadoop/.staging/job_1610315082616_0003\n",
      "2021-01-11 00:47:11,879 INFO sasl.SaslDataTransferClient: SASL encryption trust check: localHostTrusted = false, remoteHostTrusted = false\n",
      "2021-01-11 00:47:12,230 INFO sasl.SaslDataTransferClient: SASL encryption trust check: localHostTrusted = false, remoteHostTrusted = false\n",
      "2021-01-11 00:47:12,329 INFO sasl.SaslDataTransferClient: SASL encryption trust check: localHostTrusted = false, remoteHostTrusted = false\n",
      "2021-01-11 00:47:12,680 INFO mapred.FileInputFormat: Total input files to process : 1\n",
      "2021-01-11 00:47:12,816 INFO sasl.SaslDataTransferClient: SASL encryption trust check: localHostTrusted = false, remoteHostTrusted = false\n",
      "2021-01-11 00:47:12,945 INFO sasl.SaslDataTransferClient: SASL encryption trust check: localHostTrusted = false, remoteHostTrusted = false\n",
      "2021-01-11 00:47:13,022 INFO mapreduce.JobSubmitter: number of splits:2\n",
      "2021-01-11 00:47:13,414 INFO sasl.SaslDataTransferClient: SASL encryption trust check: localHostTrusted = false, remoteHostTrusted = false\n",
      "2021-01-11 00:47:13,496 INFO mapreduce.JobSubmitter: Submitting tokens for job: job_1610315082616_0003\n",
      "2021-01-11 00:47:13,496 INFO mapreduce.JobSubmitter: Executing with tokens: []\n",
      "2021-01-11 00:47:13,868 INFO conf.Configuration: resource-types.xml not found\n",
      "2021-01-11 00:47:13,870 INFO resource.ResourceUtils: Unable to find 'resource-types.xml'.\n",
      "2021-01-11 00:47:14,040 INFO impl.YarnClientImpl: Submitted application application_1610315082616_0003\n",
      "2021-01-11 00:47:14,174 INFO mapreduce.Job: The url to track the job: http://hadoop:8088/proxy/application_1610315082616_0003/\n",
      "2021-01-11 00:47:14,180 INFO mapreduce.Job: Running job: job_1610315082616_0003\n",
      "2021-01-11 00:47:25,669 INFO mapreduce.Job: Job job_1610315082616_0003 running in uber mode : false\n",
      "2021-01-11 00:47:25,672 INFO mapreduce.Job:  map 0% reduce 0%\n",
      "2021-01-11 00:47:41,172 INFO mapreduce.Job:  map 50% reduce 0%\n",
      "2021-01-11 00:47:42,191 INFO mapreduce.Job:  map 100% reduce 0%\n",
      "2021-01-11 00:47:52,370 INFO mapreduce.Job:  map 100% reduce 100%\n",
      "2021-01-11 00:47:53,400 INFO mapreduce.Job: Job job_1610315082616_0003 completed successfully\n",
      "2021-01-11 00:47:53,599 INFO mapreduce.Job: Counters: 55\n",
      "\tFile System Counters\n",
      "\t\tFILE: Number of bytes read=2615317\n",
      "\t\tFILE: Number of bytes written=5919724\n",
      "\t\tFILE: Number of read operations=0\n",
      "\t\tFILE: Number of large read operations=0\n",
      "\t\tFILE: Number of write operations=0\n",
      "\t\tHDFS: Number of bytes read=1590788\n",
      "\t\tHDFS: Number of bytes written=530683\n",
      "\t\tHDFS: Number of read operations=11\n",
      "\t\tHDFS: Number of large read operations=0\n",
      "\t\tHDFS: Number of write operations=2\n",
      "\t\tHDFS: Number of bytes read erasure-coded=0\n",
      "\tJob Counters \n",
      "\t\tKilled map tasks=1\n",
      "\t\tLaunched map tasks=2\n",
      "\t\tLaunched reduce tasks=1\n",
      "\t\tData-local map tasks=2\n",
      "\t\tTotal time spent by all maps in occupied slots (ms)=51038\n",
      "\t\tTotal time spent by all reduces in occupied slots (ms)=16370\n",
      "\t\tTotal time spent by all map tasks (ms)=25519\n",
      "\t\tTotal time spent by all reduce tasks (ms)=8185\n",
      "\t\tTotal vcore-milliseconds taken by all map tasks=25519\n",
      "\t\tTotal vcore-milliseconds taken by all reduce tasks=8185\n",
      "\t\tTotal megabyte-milliseconds taken by all map tasks=6532864\n",
      "\t\tTotal megabyte-milliseconds taken by all reduce tasks=2095360\n",
      "\tMap-Reduce Framework\n",
      "\t\tMap input records=33230\n",
      "\t\tMap output records=268131\n",
      "\t\tMap output bytes=2079049\n",
      "\t\tMap output materialized bytes=2615323\n",
      "\t\tInput split bytes=204\n",
      "\t\tCombine input records=0\n",
      "\t\tCombine output records=0\n",
      "\t\tReduce input groups=49937\n",
      "\t\tReduce shuffle bytes=2615323\n",
      "\t\tReduce input records=268131\n",
      "\t\tReduce output records=49937\n",
      "\t\tSpilled Records=536262\n",
      "\t\tShuffled Maps =2\n",
      "\t\tFailed Shuffles=0\n",
      "\t\tMerged Map outputs=2\n",
      "\t\tGC time elapsed (ms)=320\n",
      "\t\tCPU time spent (ms)=13070\n",
      "\t\tPhysical memory (bytes) snapshot=683204608\n",
      "\t\tVirtual memory (bytes) snapshot=5747724288\n",
      "\t\tTotal committed heap usage (bytes)=470810624\n",
      "\t\tPeak Map Physical memory (bytes)=269647872\n",
      "\t\tPeak Map Virtual memory (bytes)=1916870656\n",
      "\t\tPeak Reduce Physical memory (bytes)=156225536\n",
      "\t\tPeak Reduce Virtual memory (bytes)=1918537728\n",
      "\tShuffle Errors\n",
      "\t\tBAD_ID=0\n",
      "\t\tCONNECTION=0\n",
      "\t\tIO_ERROR=0\n",
      "\t\tWRONG_LENGTH=0\n",
      "\t\tWRONG_MAP=0\n",
      "\t\tWRONG_REDUCE=0\n",
      "\tFile Input Format Counters \n",
      "\t\tBytes Read=1590584\n",
      "\tFile Output Format Counters \n",
      "\t\tBytes Written=530683\n",
      "2021-01-11 00:47:53,599 INFO streaming.StreamJob: Output directory: ulysses-output\n"
     ]
    }
   ],
   "source": [
    "%%dockerexec -u hadoop hadoop\n",
    "source /opt/envvars.sh\n",
    "\n",
    "cd /opt/wc_streaming\n",
    "\n",
    "# execute using Hadoop Streaming\n",
    "hadoop jar \\\n",
    "$HADOOP_HOME/share/hadoop/tools/lib/hadoop-streaming-3.2.1.jar \\\n",
    "-input ulysses \\\n",
    "-output ulysses-output \\\n",
    "-mapper wordmapper.py \\\n",
    "-reducer wordreducer.py \\\n",
    "-file wordmapper.py \\\n",
    "-file wordreducer.py"
   ]
  },
  {
   "cell_type": "code",
   "execution_count": 21,
   "metadata": {},
   "outputs": [
    {
     "name": "stdout",
     "output_type": "stream",
     "text": [
      "Found 2 items\n",
      "-rw-r--r--   2 hadoop hadoop          0 2021-01-11 00:47 ulysses-output/_SUCCESS\n",
      "-rw-r--r--   2 hadoop hadoop     530683 2021-01-11 00:47 ulysses-output/part-00000\n",
      "2021-01-11 00:48:03,097 INFO sasl.SaslDataTransferClient: SASL encryption trust check: localHostTrusted = false, remoteHostTrusted = false\n",
      "\"Defects,\"\t1\n",
      "\"Information\t1\n",
      "\"Plain\t2\n",
      "\"Project\t5\n",
      "\"Right\t1\n",
      "#4300]\t1\n",
      "$5,000)\t1\n",
      "%\t4\n",
      "&c,\t2\n",
      "&c.\t1\n"
     ]
    }
   ],
   "source": [
    "%%dockerexec -u hadoop -w /opt/wc_java hadoop\n",
    "source /opt/envvars.sh\n",
    "\n",
    "# check output files\n",
    "hdfs dfs -ls ulysses-output\n",
    "\n",
    "# get output from HDFS\n",
    "hdfs dfs -getmerge ulysses-output ulysses-output.txt\n",
    "\n",
    "# head output\n",
    "head ulysses-output.txt"
   ]
  }
 ],
 "metadata": {
  "kernelspec": {
   "display_name": "Python 3",
   "language": "python",
   "name": "python3"
  },
  "language_info": {
   "codemirror_mode": {
    "name": "ipython",
    "version": 3
   },
   "file_extension": ".py",
   "mimetype": "text/x-python",
   "name": "python",
   "nbconvert_exporter": "python",
   "pygments_lexer": "ipython3",
   "version": "3.7.9"
  }
 },
 "nbformat": 4,
 "nbformat_minor": 4
}
